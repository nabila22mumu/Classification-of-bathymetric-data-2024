{
 "cells": [
  {
   "cell_type": "code",
   "execution_count": 1,
   "id": "2bf738cc",
   "metadata": {
    "id": "2bf738cc"
   },
   "outputs": [],
   "source": [
    "import os\n",
    "import pandas as pd\n",
    "import numpy as np\n",
    "\n",
    "folder_path = 'Processed_final_class/'\n",
    "\n",
    "sequences = []\n",
    "labels = []\n",
    "\n",
    "for filename in os.listdir(folder_path):\n",
    "    if filename.endswith(\".csv\"):\n",
    "        file_path = os.path.join(folder_path, filename)\n",
    "        data = pd.read_csv(file_path)\n",
    "\n",
    "        # Convert specific columns to integers directly within the DataFrame\n",
    "\n",
    "        data['Samples'] = pd.to_numeric(data['Samples'], errors='coerce').astype(int)\n",
    "        data['Class_Label'] = pd.to_numeric(data['Class_Label'], errors='coerce').astype(int)\n",
    "\n",
    "\n",
    "        # Extract features\n",
    "\n",
    "        sequence = data[['Samples']]\n",
    "        sequences.append(sequence.values)\n",
    "\n",
    "        # Extract label\n",
    "        label = data['Class_Label']\n",
    "        labels.append(label)\n",
    "\n",
    "# Convert lists to numpy arrays\n",
    "X = np.array(sequences)\n",
    "y = np.array(labels)\n"
   ]
  },
  {
   "cell_type": "code",
   "execution_count": 2,
   "id": "24c96833",
   "metadata": {
    "colab": {
     "base_uri": "https://localhost:8080/"
    },
    "id": "24c96833",
    "outputId": "49f42311-137e-4525-f42c-7e0ea6fa820b"
   },
   "outputs": [
    {
     "name": "stdout",
     "output_type": "stream",
     "text": [
      "Total files: 6379\n",
      "Unique files: 6379\n"
     ]
    }
   ],
   "source": [
    "# Check for unique files\n",
    "files = os.listdir(folder_path)\n",
    "print(\"Total files:\", len(files))\n",
    "print(\"Unique files:\", len(set(files)))\n"
   ]
  },
  {
   "cell_type": "code",
   "execution_count": 3,
   "id": "f09200f9",
   "metadata": {
    "colab": {
     "base_uri": "https://localhost:8080/"
    },
    "id": "f09200f9",
    "outputId": "df1293de-2abb-4146-e52c-ec42db36ff2f"
   },
   "outputs": [
    {
     "name": "stdout",
     "output_type": "stream",
     "text": [
      "   Sample_no  Samples  Class_Label       x_cor        y_cor   z_cor  \\\n",
      "0        101      275            0  303787.821  6558103.231  43.546   \n",
      "1        102      252            0  303787.821  6558103.231  43.546   \n",
      "2        103      225            0  303787.821  6558103.231  43.546   \n",
      "3        104      197            0  303787.821  6558103.231  43.546   \n",
      "4        105      233            0  303787.821  6558103.231  43.546   \n",
      "\n",
      "   Sample_Length    Point  Returning_Point  Final_Class  \n",
      "0        0.05996  9.63383              160            1  \n",
      "1        0.05996  9.63383              160            1  \n",
      "2        0.05996  9.63383              160            1  \n",
      "3        0.05996  9.63383              160            1  \n",
      "4        0.05996  9.63383              160            1  \n",
      "Unique rows in sample file: 300\n"
     ]
    }
   ],
   "source": [
    "sample_file_path = os.path.join(folder_path, files[0])\n",
    "sample_data = pd.read_csv(sample_file_path)\n",
    "print(sample_data.head())  # See first few rows\n",
    "print(\"Unique rows in sample file:\", sample_data.drop_duplicates().shape[0])\n"
   ]
  },
  {
   "cell_type": "code",
   "execution_count": 4,
   "id": "30a02e2c",
   "metadata": {
    "colab": {
     "base_uri": "https://localhost:8080/"
    },
    "id": "30a02e2c",
    "outputId": "3806b6d2-50ed-449d-a3cd-59903cc32006"
   },
   "outputs": [
    {
     "name": "stdout",
     "output_type": "stream",
     "text": [
      "Shape of X: (6379, 300, 1)\n",
      "Shape of y: (6379, 300)\n"
     ]
    }
   ],
   "source": [
    "print(f\"Shape of X: {X.shape}\")\n",
    "print(f\"Shape of y: {y.shape}\")"
   ]
  },
  {
   "cell_type": "code",
   "execution_count": 5,
   "id": "fe0934e2",
   "metadata": {
    "colab": {
     "base_uri": "https://localhost:8080/"
    },
    "id": "fe0934e2",
    "outputId": "84690220-d868-459a-a9e9-821a05529a6a"
   },
   "outputs": [
    {
     "name": "stdout",
     "output_type": "stream",
     "text": [
      "Label distribution: {0: 1072781, 1: 101809, 2: 615134, 3: 53863, 4: 70113}\n"
     ]
    }
   ],
   "source": [
    "unique, counts = np.unique(y, return_counts=True)\n",
    "print(\"Label distribution:\", dict(zip(unique, counts)))"
   ]
  },
  {
   "cell_type": "code",
   "execution_count": 6,
   "id": "idzdBHQu58O0",
   "metadata": {
    "colab": {
     "base_uri": "https://localhost:8080/",
     "height": 512
    },
    "id": "idzdBHQu58O0",
    "outputId": "a13d372f-18fb-4cc3-a8c6-dc728fee5dfd"
   },
   "outputs": [
    {
     "name": "stdout",
     "output_type": "stream",
     "text": [
      "Class Weights: {0: 0.35666400684951455, 1: 3.758285461776403, 2: 0.6225828097358629, 3: 7.103285077951003, 4: 5.459408376869996}\n",
      "Sample Weights Shape: (5103, 300)\n",
      "Model: \"model\"\n",
      "_________________________________________________________________\n",
      " Layer (type)                Output Shape              Param #   \n",
      "=================================================================\n",
      " input_1 (InputLayer)        [(None, 300, 1)]          0         \n",
      "                                                                 \n",
      " bidirectional (Bidirectiona  (None, 300, 256)         133120    \n",
      " l)                                                              \n",
      "                                                                 \n",
      " dropout (Dropout)           (None, 300, 256)          0         \n",
      "                                                                 \n",
      " bidirectional_1 (Bidirectio  (None, 300, 128)         164352    \n",
      " nal)                                                            \n",
      "                                                                 \n",
      " dropout_1 (Dropout)         (None, 300, 128)          0         \n",
      "                                                                 \n",
      " time_distributed (TimeDistr  (None, 300, 5)           645       \n",
      " ibuted)                                                         \n",
      "                                                                 \n",
      "=================================================================\n",
      "Total params: 298,117\n",
      "Trainable params: 298,117\n",
      "Non-trainable params: 0\n",
      "_________________________________________________________________\n",
      "Epoch 1/100\n",
      "319/319 [==============================] - 148s 431ms/step - loss: 0.9248 - accuracy: 0.6772 - val_loss: 0.5050 - val_accuracy: 0.8221\n",
      "Epoch 2/100\n",
      "319/319 [==============================] - 128s 401ms/step - loss: 0.4507 - accuracy: 0.8432 - val_loss: 0.4760 - val_accuracy: 0.8308\n",
      "Epoch 3/100\n",
      "319/319 [==============================] - 126s 394ms/step - loss: 0.4246 - accuracy: 0.8473 - val_loss: 0.4544 - val_accuracy: 0.8327\n",
      "Epoch 4/100\n",
      "319/319 [==============================] - 142s 444ms/step - loss: 0.4010 - accuracy: 0.8544 - val_loss: 0.4188 - val_accuracy: 0.8478\n",
      "Epoch 5/100\n",
      "319/319 [==============================] - 133s 418ms/step - loss: 0.3766 - accuracy: 0.8635 - val_loss: 0.3897 - val_accuracy: 0.8549\n",
      "Epoch 6/100\n",
      "319/319 [==============================] - 136s 426ms/step - loss: 0.3425 - accuracy: 0.8771 - val_loss: 0.3052 - val_accuracy: 0.8833\n",
      "Epoch 7/100\n",
      "319/319 [==============================] - 137s 429ms/step - loss: 0.3176 - accuracy: 0.8864 - val_loss: 0.3330 - val_accuracy: 0.8788\n",
      "Epoch 8/100\n",
      "319/319 [==============================] - 142s 445ms/step - loss: 0.3055 - accuracy: 0.8895 - val_loss: 0.2814 - val_accuracy: 0.8959\n",
      "Epoch 9/100\n",
      "319/319 [==============================] - 129s 406ms/step - loss: 0.2930 - accuracy: 0.8931 - val_loss: 0.3008 - val_accuracy: 0.8899\n",
      "Epoch 10/100\n",
      "319/319 [==============================] - 136s 428ms/step - loss: 0.2895 - accuracy: 0.8945 - val_loss: 0.2441 - val_accuracy: 0.9058\n",
      "Epoch 11/100\n",
      "319/319 [==============================] - 143s 448ms/step - loss: 0.2851 - accuracy: 0.8956 - val_loss: 0.2499 - val_accuracy: 0.9077\n",
      "Epoch 12/100\n",
      "319/319 [==============================] - 138s 434ms/step - loss: 0.2779 - accuracy: 0.8971 - val_loss: 0.2616 - val_accuracy: 0.9040\n",
      "Epoch 13/100\n",
      "319/319 [==============================] - 147s 461ms/step - loss: 0.2699 - accuracy: 0.9010 - val_loss: 0.2646 - val_accuracy: 0.9048\n",
      "Epoch 14/100\n",
      "319/319 [==============================] - 143s 448ms/step - loss: 0.2591 - accuracy: 0.9031 - val_loss: 0.2181 - val_accuracy: 0.9167\n",
      "Epoch 15/100\n",
      "319/319 [==============================] - 147s 461ms/step - loss: 0.2523 - accuracy: 0.9064 - val_loss: 0.2182 - val_accuracy: 0.9169\n",
      "Epoch 16/100\n",
      "319/319 [==============================] - 139s 435ms/step - loss: 0.2523 - accuracy: 0.9069 - val_loss: 0.2393 - val_accuracy: 0.9101\n",
      "Epoch 17/100\n",
      "319/319 [==============================] - 141s 442ms/step - loss: 0.2431 - accuracy: 0.9096 - val_loss: 0.2240 - val_accuracy: 0.9168\n",
      "Epoch 18/100\n",
      "319/319 [==============================] - 144s 453ms/step - loss: 0.2429 - accuracy: 0.9100 - val_loss: 0.2109 - val_accuracy: 0.9181\n",
      "Epoch 19/100\n",
      "319/319 [==============================] - 143s 449ms/step - loss: 0.2368 - accuracy: 0.9120 - val_loss: 0.2115 - val_accuracy: 0.9212\n",
      "Epoch 20/100\n",
      "319/319 [==============================] - 149s 468ms/step - loss: 0.2375 - accuracy: 0.9120 - val_loss: 0.2070 - val_accuracy: 0.9221\n",
      "Epoch 21/100\n",
      "319/319 [==============================] - 167s 524ms/step - loss: 0.2338 - accuracy: 0.9137 - val_loss: 0.2091 - val_accuracy: 0.9231\n",
      "Epoch 22/100\n",
      "319/319 [==============================] - 140s 440ms/step - loss: 0.2287 - accuracy: 0.9153 - val_loss: 0.1885 - val_accuracy: 0.9289\n",
      "Epoch 23/100\n",
      "319/319 [==============================] - 145s 455ms/step - loss: 0.2260 - accuracy: 0.9164 - val_loss: 0.1955 - val_accuracy: 0.9242\n",
      "Epoch 24/100\n",
      "319/319 [==============================] - 151s 474ms/step - loss: 0.2326 - accuracy: 0.9143 - val_loss: 0.2055 - val_accuracy: 0.9181\n",
      "Epoch 25/100\n",
      "319/319 [==============================] - 145s 455ms/step - loss: 0.2375 - accuracy: 0.9129 - val_loss: 0.2057 - val_accuracy: 0.9236\n",
      "Epoch 26/100\n",
      "319/319 [==============================] - 148s 465ms/step - loss: 0.2305 - accuracy: 0.9155 - val_loss: 0.1906 - val_accuracy: 0.9296\n",
      "Epoch 27/100\n",
      "319/319 [==============================] - 154s 483ms/step - loss: 0.2293 - accuracy: 0.9156 - val_loss: 0.1909 - val_accuracy: 0.9301\n",
      "Epoch 28/100\n",
      "319/319 [==============================] - 158s 495ms/step - loss: 0.2286 - accuracy: 0.9156 - val_loss: 0.1911 - val_accuracy: 0.9295\n",
      "Epoch 29/100\n",
      "319/319 [==============================] - 149s 468ms/step - loss: 0.2236 - accuracy: 0.9173 - val_loss: 0.1941 - val_accuracy: 0.9276\n",
      "Epoch 30/100\n",
      "319/319 [==============================] - 144s 451ms/step - loss: 0.2234 - accuracy: 0.9183 - val_loss: 0.1958 - val_accuracy: 0.9253\n",
      "Epoch 31/100\n",
      "319/319 [==============================] - 149s 468ms/step - loss: 0.2184 - accuracy: 0.9194 - val_loss: 0.1808 - val_accuracy: 0.9334\n",
      "Epoch 32/100\n",
      "319/319 [==============================] - 146s 457ms/step - loss: 0.2232 - accuracy: 0.9182 - val_loss: 0.1937 - val_accuracy: 0.9289\n",
      "Epoch 33/100\n",
      "319/319 [==============================] - 154s 482ms/step - loss: 0.2274 - accuracy: 0.9170 - val_loss: 0.1974 - val_accuracy: 0.9274\n",
      "Epoch 34/100\n",
      "319/319 [==============================] - 187s 585ms/step - loss: 0.2201 - accuracy: 0.9191 - val_loss: 0.1810 - val_accuracy: 0.9323\n",
      "Epoch 35/100\n",
      "319/319 [==============================] - 178s 558ms/step - loss: 0.2234 - accuracy: 0.9176 - val_loss: 0.2072 - val_accuracy: 0.9248\n",
      "Epoch 36/100\n",
      "319/319 [==============================] - 174s 547ms/step - loss: 0.2191 - accuracy: 0.9196 - val_loss: 0.1893 - val_accuracy: 0.9283\n",
      "Epoch 37/100\n",
      "319/319 [==============================] - 177s 553ms/step - loss: 0.2197 - accuracy: 0.9200 - val_loss: 0.1817 - val_accuracy: 0.9323\n",
      "Epoch 38/100\n",
      "319/319 [==============================] - 180s 566ms/step - loss: 0.2154 - accuracy: 0.9204 - val_loss: 0.1977 - val_accuracy: 0.9284\n",
      "Epoch 39/100\n",
      "319/319 [==============================] - 169s 529ms/step - loss: 0.2144 - accuracy: 0.9218 - val_loss: 0.2090 - val_accuracy: 0.9253\n",
      "Epoch 40/100\n",
      "319/319 [==============================] - 173s 544ms/step - loss: 0.2142 - accuracy: 0.9210 - val_loss: 0.2100 - val_accuracy: 0.9200\n",
      "Epoch 41/100\n",
      "319/319 [==============================] - 170s 532ms/step - loss: 0.2077 - accuracy: 0.9231 - val_loss: 0.1809 - val_accuracy: 0.9326\n",
      "Epoch 42/100\n",
      "319/319 [==============================] - 172s 541ms/step - loss: 0.2133 - accuracy: 0.9215 - val_loss: 0.1884 - val_accuracy: 0.9320\n",
      "Epoch 43/100\n",
      "319/319 [==============================] - 190s 594ms/step - loss: 0.2052 - accuracy: 0.9244 - val_loss: 0.1845 - val_accuracy: 0.9311\n",
      "Epoch 44/100\n",
      "319/319 [==============================] - 176s 553ms/step - loss: 0.2082 - accuracy: 0.9232 - val_loss: 0.2129 - val_accuracy: 0.9253\n",
      "Epoch 45/100\n",
      "319/319 [==============================] - 188s 589ms/step - loss: 0.2085 - accuracy: 0.9237 - val_loss: 0.1784 - val_accuracy: 0.9358\n",
      "Epoch 46/100\n",
      "319/319 [==============================] - 188s 589ms/step - loss: 0.2064 - accuracy: 0.9244 - val_loss: 0.1946 - val_accuracy: 0.9293\n",
      "Epoch 47/100\n",
      "319/319 [==============================] - 181s 569ms/step - loss: 0.2066 - accuracy: 0.9243 - val_loss: 0.1854 - val_accuracy: 0.9326\n",
      "Epoch 48/100\n",
      "319/319 [==============================] - 163s 511ms/step - loss: 0.2063 - accuracy: 0.9241 - val_loss: 0.1827 - val_accuracy: 0.9343\n",
      "Epoch 49/100\n",
      "319/319 [==============================] - 156s 488ms/step - loss: 0.2046 - accuracy: 0.9248 - val_loss: 0.1825 - val_accuracy: 0.9335\n",
      "Epoch 50/100\n",
      "319/319 [==============================] - 165s 517ms/step - loss: 0.2064 - accuracy: 0.9246 - val_loss: 0.1665 - val_accuracy: 0.9398\n",
      "Epoch 51/100\n",
      "319/319 [==============================] - 160s 501ms/step - loss: 0.2000 - accuracy: 0.9267 - val_loss: 0.1836 - val_accuracy: 0.9346\n",
      "Epoch 52/100\n",
      "319/319 [==============================] - 160s 501ms/step - loss: 0.2036 - accuracy: 0.9253 - val_loss: 0.1884 - val_accuracy: 0.9312\n",
      "Epoch 53/100\n",
      "319/319 [==============================] - 162s 509ms/step - loss: 0.2053 - accuracy: 0.9255 - val_loss: 0.1866 - val_accuracy: 0.9337\n",
      "Epoch 54/100\n",
      "319/319 [==============================] - 162s 508ms/step - loss: 0.1989 - accuracy: 0.9268 - val_loss: 0.1929 - val_accuracy: 0.9306\n",
      "Epoch 55/100\n",
      "319/319 [==============================] - 159s 497ms/step - loss: 0.2005 - accuracy: 0.9268 - val_loss: 0.1652 - val_accuracy: 0.9403\n",
      "Epoch 56/100\n",
      "319/319 [==============================] - 165s 516ms/step - loss: 0.1920 - accuracy: 0.9294 - val_loss: 0.2084 - val_accuracy: 0.9220\n",
      "Epoch 57/100\n",
      "319/319 [==============================] - 170s 534ms/step - loss: 0.1939 - accuracy: 0.9292 - val_loss: 0.1740 - val_accuracy: 0.9373\n",
      "Epoch 58/100\n",
      "319/319 [==============================] - 168s 527ms/step - loss: 0.1940 - accuracy: 0.9290 - val_loss: 0.1786 - val_accuracy: 0.9363\n",
      "Epoch 59/100\n",
      "319/319 [==============================] - 165s 518ms/step - loss: 0.1875 - accuracy: 0.9315 - val_loss: 0.1671 - val_accuracy: 0.9404\n",
      "Epoch 60/100\n",
      "319/319 [==============================] - 177s 555ms/step - loss: 0.1855 - accuracy: 0.9314 - val_loss: 0.1592 - val_accuracy: 0.9433\n",
      "Epoch 61/100\n",
      "319/319 [==============================] - 170s 533ms/step - loss: 0.1899 - accuracy: 0.9308 - val_loss: 0.1661 - val_accuracy: 0.9405\n",
      "Epoch 62/100\n",
      "319/319 [==============================] - 172s 540ms/step - loss: 0.1872 - accuracy: 0.9316 - val_loss: 0.1638 - val_accuracy: 0.9411\n",
      "Epoch 63/100\n",
      "319/319 [==============================] - 172s 540ms/step - loss: 0.1855 - accuracy: 0.9316 - val_loss: 0.1601 - val_accuracy: 0.9431\n",
      "Epoch 64/100\n",
      "319/319 [==============================] - 177s 556ms/step - loss: 0.1851 - accuracy: 0.9320 - val_loss: 0.1699 - val_accuracy: 0.9393\n",
      "Epoch 65/100\n",
      "319/319 [==============================] - 180s 563ms/step - loss: 0.1830 - accuracy: 0.9330 - val_loss: 0.1657 - val_accuracy: 0.9410\n",
      "Epoch 66/100\n",
      "319/319 [==============================] - 186s 581ms/step - loss: 0.1827 - accuracy: 0.9327 - val_loss: 0.1793 - val_accuracy: 0.9356\n",
      "Epoch 67/100\n",
      "319/319 [==============================] - 184s 576ms/step - loss: 0.1843 - accuracy: 0.9329 - val_loss: 0.1798 - val_accuracy: 0.9375\n",
      "Epoch 68/100\n",
      "319/319 [==============================] - 182s 569ms/step - loss: 0.1824 - accuracy: 0.9332 - val_loss: 0.1622 - val_accuracy: 0.9422\n",
      "Epoch 69/100\n",
      "319/319 [==============================] - 190s 597ms/step - loss: 0.1815 - accuracy: 0.9334 - val_loss: 0.1668 - val_accuracy: 0.9402\n",
      "Epoch 70/100\n",
      "319/319 [==============================] - 188s 589ms/step - loss: 0.1770 - accuracy: 0.9348 - val_loss: 0.1630 - val_accuracy: 0.9418\n",
      "Epoch 71/100\n",
      "319/319 [==============================] - 190s 597ms/step - loss: 0.1909 - accuracy: 0.9302 - val_loss: 0.1705 - val_accuracy: 0.9395\n",
      "Epoch 72/100\n",
      "319/319 [==============================] - 190s 596ms/step - loss: 0.1862 - accuracy: 0.9316 - val_loss: 0.1679 - val_accuracy: 0.9412\n",
      "Epoch 73/100\n",
      "319/319 [==============================] - 192s 603ms/step - loss: 0.1847 - accuracy: 0.9322 - val_loss: 0.1553 - val_accuracy: 0.9442\n",
      "Epoch 74/100\n",
      "319/319 [==============================] - 198s 622ms/step - loss: 0.1839 - accuracy: 0.9325 - val_loss: 0.1692 - val_accuracy: 0.9389\n",
      "Epoch 75/100\n",
      "319/319 [==============================] - 199s 623ms/step - loss: 0.1825 - accuracy: 0.9331 - val_loss: 0.1653 - val_accuracy: 0.9406\n",
      "Epoch 76/100\n",
      "319/319 [==============================] - 202s 632ms/step - loss: 0.1794 - accuracy: 0.9343 - val_loss: 0.1572 - val_accuracy: 0.9439\n",
      "Epoch 77/100\n",
      "319/319 [==============================] - 210s 660ms/step - loss: 0.1914 - accuracy: 0.9301 - val_loss: 0.1789 - val_accuracy: 0.9365\n",
      "Epoch 78/100\n",
      "319/319 [==============================] - 215s 674ms/step - loss: 0.1869 - accuracy: 0.9320 - val_loss: 0.1709 - val_accuracy: 0.9385\n",
      "Epoch 79/100\n",
      "319/319 [==============================] - 220s 688ms/step - loss: 0.1830 - accuracy: 0.9332 - val_loss: 0.1621 - val_accuracy: 0.9427\n",
      "Epoch 80/100\n",
      "319/319 [==============================] - 220s 689ms/step - loss: 0.1817 - accuracy: 0.9338 - val_loss: 0.1604 - val_accuracy: 0.9426\n",
      "Epoch 81/100\n",
      "319/319 [==============================] - 225s 706ms/step - loss: 0.1839 - accuracy: 0.9336 - val_loss: 0.1926 - val_accuracy: 0.9306\n",
      "Epoch 82/100\n",
      "319/319 [==============================] - 231s 726ms/step - loss: 0.1862 - accuracy: 0.9322 - val_loss: 0.1667 - val_accuracy: 0.9407\n",
      "Epoch 83/100\n",
      "319/319 [==============================] - 228s 715ms/step - loss: 0.1801 - accuracy: 0.9344 - val_loss: 0.1643 - val_accuracy: 0.9409\n",
      "Epoch 84/100\n",
      "319/319 [==============================] - 241s 756ms/step - loss: 0.1849 - accuracy: 0.9329 - val_loss: 0.1693 - val_accuracy: 0.9407\n",
      "Epoch 85/100\n",
      "319/319 [==============================] - 237s 743ms/step - loss: 0.1808 - accuracy: 0.9349 - val_loss: 0.1677 - val_accuracy: 0.9394\n",
      "Epoch 86/100\n",
      "319/319 [==============================] - 244s 765ms/step - loss: 0.1738 - accuracy: 0.9357 - val_loss: 0.1794 - val_accuracy: 0.9364\n",
      "Epoch 87/100\n",
      "319/319 [==============================] - 243s 763ms/step - loss: 0.1796 - accuracy: 0.9340 - val_loss: 0.1604 - val_accuracy: 0.9432\n",
      "Epoch 88/100\n",
      "319/319 [==============================] - 248s 778ms/step - loss: 0.1857 - accuracy: 0.9324 - val_loss: 0.1652 - val_accuracy: 0.9421\n",
      "Epoch 89/100\n",
      "319/319 [==============================] - 254s 797ms/step - loss: 0.1838 - accuracy: 0.9330 - val_loss: 0.1574 - val_accuracy: 0.9445\n",
      "Epoch 90/100\n",
      "319/319 [==============================] - 268s 840ms/step - loss: 0.1802 - accuracy: 0.9346 - val_loss: 0.1649 - val_accuracy: 0.9409\n",
      "Epoch 91/100\n",
      "319/319 [==============================] - 271s 848ms/step - loss: 0.1798 - accuracy: 0.9345 - val_loss: 0.1652 - val_accuracy: 0.9412\n",
      "Epoch 92/100\n",
      "319/319 [==============================] - 280s 878ms/step - loss: 0.1783 - accuracy: 0.9346 - val_loss: 0.1638 - val_accuracy: 0.9417\n",
      "Epoch 93/100\n",
      "319/319 [==============================] - 265s 831ms/step - loss: 0.1798 - accuracy: 0.9342 - val_loss: 0.1511 - val_accuracy: 0.9455\n",
      "Epoch 94/100\n",
      "319/319 [==============================] - 266s 834ms/step - loss: 0.1768 - accuracy: 0.9354 - val_loss: 0.1597 - val_accuracy: 0.9418\n",
      "Epoch 95/100\n",
      "319/319 [==============================] - 268s 840ms/step - loss: 0.1739 - accuracy: 0.9363 - val_loss: 0.1507 - val_accuracy: 0.9459\n",
      "Epoch 96/100\n",
      "319/319 [==============================] - 266s 834ms/step - loss: 0.1753 - accuracy: 0.9364 - val_loss: 0.1621 - val_accuracy: 0.9427\n",
      "Epoch 97/100\n",
      "319/319 [==============================] - 266s 835ms/step - loss: 0.1710 - accuracy: 0.9371 - val_loss: 0.1549 - val_accuracy: 0.9455\n",
      "Epoch 98/100\n",
      "319/319 [==============================] - 270s 845ms/step - loss: 0.1701 - accuracy: 0.9376 - val_loss: 0.1445 - val_accuracy: 0.9478\n",
      "Epoch 99/100\n",
      "319/319 [==============================] - 276s 866ms/step - loss: 0.1808 - accuracy: 0.9343 - val_loss: 0.1570 - val_accuracy: 0.9435\n",
      "Epoch 100/100\n",
      "319/319 [==============================] - 280s 878ms/step - loss: 0.1806 - accuracy: 0.9341 - val_loss: 0.1609 - val_accuracy: 0.9437\n",
      "40/40 [==============================] - 16s 391ms/step - loss: 0.1609 - accuracy: 0.9437\n",
      "Test Loss: 0.16092608869075775\n",
      "Test Accuracy: 0.9436729550361633\n"
     ]
    }
   ],
   "source": [
    "import numpy as np\n",
    "import tensorflow as tf\n",
    "from tensorflow.keras.layers import Input, Bidirectional, LSTM, Dense, Dropout, TimeDistributed, LayerNormalization\n",
    "from tensorflow.keras.models import Model\n",
    "from sklearn.utils.class_weight import compute_class_weight\n",
    "from tensorflow.keras.utils import to_categorical\n",
    "from sklearn.model_selection import train_test_split\n",
    "\n",
    "\n",
    "num_classes = 5\n",
    "y_one_hot = np.array([to_categorical(y_seq, num_classes=num_classes) for y_seq in y])\n",
    "\n",
    "X_train, X_test, y_train, y_test = train_test_split(X, y_one_hot, test_size=0.2, random_state=42)\n",
    "\n",
    "\n",
    "y_train_flat = np.argmax(y_train, axis=-1).flatten()  # Flatten y_train to get 1D array of class labels\n",
    "\n",
    "\n",
    "class_weights = compute_class_weight('balanced', classes=np.unique(y_train_flat), y=y_train_flat)\n",
    "class_weights_dict = {i: class_weights[i] for i in range(len(class_weights))}\n",
    "print(\"Class Weights:\", class_weights_dict)\n",
    "\n",
    "\n",
    "def assign_sample_weights(y_train, class_weights_dict):\n",
    "    sample_weights = np.ones((y_train.shape[0], y_train.shape[1]))  # Shape: (num_samples, num_timesteps)\n",
    "    \n",
    "    for i in range(y_train.shape[0]):  # Iterate over samples\n",
    "        for t in range(y_train.shape[1]):  # Iterate over time steps\n",
    "            class_label = np.argmax(y_train[i, t])  # Get the class label at this time step\n",
    "            sample_weights[i, t] = class_weights_dict[class_label]  # Assign the weight based on the class\n",
    "    \n",
    "    return sample_weights\n",
    "\n",
    "\n",
    "sample_weights_train = assign_sample_weights(y_train, class_weights_dict)\n",
    "print(\"Sample Weights Shape:\", sample_weights_train.shape)\n",
    "\n",
    "\n",
    "input_layer = Input(shape=(300, 1))\n",
    "\n",
    "\n",
    "x = Bidirectional(LSTM(128, return_sequences=True))(input_layer)\n",
    "x = Dropout(0.5)(x)\n",
    "\n",
    "\n",
    "x = Bidirectional(LSTM(64, return_sequences=True))(x)\n",
    "x = Dropout(0.5)(x)\n",
    "\n",
    "# TimeDistributed output layer to classify at each time step\n",
    "output_layer = TimeDistributed(Dense(5, activation='softmax'))(x)\n",
    "\n",
    "\n",
    "model = Model(inputs=input_layer, outputs=output_layer)\n",
    "\n",
    "\n",
    "optimizer = tf.keras.optimizers.Adam(learning_rate=1e-4)\n",
    "\n",
    "# Compile the model\n",
    "model.compile(optimizer=optimizer, loss='categorical_crossentropy', metrics=['accuracy'])\n",
    "\n",
    "\n",
    "model.summary()\n",
    "\n",
    "\n",
    "history = model.fit(X_train, y_train,\n",
    "                    validation_data=(X_test, y_test),\n",
    "                    epochs=100,\n",
    "                    batch_size=16,  \n",
    "                    sample_weight=sample_weights_train)  \n",
    "\n",
    "\n",
    "\n",
    "\n",
    "test_loss, test_acc = model.evaluate(X_test, y_test)\n",
    "print(f\"Test Loss: {test_loss}\")\n",
    "print(f\"Test Accuracy: {test_acc}\")\n"
   ]
  },
  {
   "cell_type": "code",
   "execution_count": 7,
   "id": "b67bb1dd",
   "metadata": {
    "colab": {
     "base_uri": "https://localhost:8080/"
    },
    "id": "b67bb1dd",
    "outputId": "ecd34033-a493-446a-c092-4e21c5c0deb9"
   },
   "outputs": [
    {
     "name": "stdout",
     "output_type": "stream",
     "text": [
      "Final training accuracy: 93.41%\n",
      "Final training loss: 0.1806\n",
      "Final validation accuracy: 94.37%\n",
      "Final validation loss: 0.1609\n"
     ]
    }
   ],
   "source": [
    "train_loss = history.history['loss']  # Training loss per epoch\n",
    "train_accuracy = history.history['accuracy']  # Training accuracy per epoch\n",
    "\n",
    "\n",
    "val_loss = history.history['val_loss']  # Validation loss per epoch\n",
    "val_accuracy = history.history['val_accuracy']  # Validation accuracy per epoch\n",
    "\n",
    "# Print final epoch accuracy and loss\n",
    "print(f\"Final training accuracy: {train_accuracy[-1] * 100:.2f}%\")\n",
    "print(f\"Final training loss: {train_loss[-1]:.4f}\")\n",
    "print(f\"Final validation accuracy: {val_accuracy[-1] * 100:.2f}%\")\n",
    "print(f\"Final validation loss: {val_loss[-1]:.4f}\")\n"
   ]
  },
  {
   "cell_type": "code",
   "execution_count": 8,
   "id": "74356023",
   "metadata": {
    "colab": {
     "base_uri": "https://localhost:8080/",
     "height": 957
    },
    "id": "74356023",
    "outputId": "c0cfa484-2f3a-4c93-bd6f-d315893595c0"
   },
   "outputs": [
    {
     "data": {
      "image/png": "[encoded data removed]",
      "text/plain": [
       "<Figure size 432x288 with 1 Axes>"
      ]
     },
     "metadata": {
      "needs_background": "light"
     },
     "output_type": "display_data"
    },
    {
     "data": {
      "image/png": "[encoded data removed]",
      "text/plain": [
       "<Figure size 432x288 with 1 Axes>"
      ]
     },
     "metadata": {
      "needs_background": "light"
     },
     "output_type": "display_data"
    }
   ],
   "source": [
    "import matplotlib.pyplot as plt\n",
    "\n",
    "# Plot training & validation accuracy values\n",
    "plt.plot(history.history['accuracy'], label='Training Accuracy', color='blue')\n",
    "plt.plot(history.history['val_accuracy'], label='Validation Accuracy', color='orange')\n",
    "plt.title('Model Accuracy', fontsize=14)\n",
    "plt.xlabel('Epoch', fontsize=12)\n",
    "plt.ylabel('Accuracy', fontsize=12)\n",
    "plt.legend(loc='lower right')\n",
    "plt.grid(True)\n",
    "plt.tight_layout()\n",
    "plt.show()\n",
    "\n",
    "# Plot training & validation loss values\n",
    "plt.plot(history.history['loss'], label='Training Loss', color='blue')\n",
    "plt.plot(history.history['val_loss'], label='Validation Loss', color='orange')\n",
    "plt.title('Model Loss', fontsize=14)\n",
    "plt.xlabel('Epoch', fontsize=12)\n",
    "plt.ylabel('Loss', fontsize=12)\n",
    "plt.legend(loc='upper right')\n",
    "plt.grid(True)\n",
    "plt.tight_layout()\n",
    "plt.show()\n"
   ]
  },
  {
   "cell_type": "code",
   "execution_count": 9,
   "id": "305e6666",
   "metadata": {
    "colab": {
     "base_uri": "https://localhost:8080/"
    },
    "id": "305e6666",
    "outputId": "fb660b33-9d3b-4440-e0d5-a901b31b0289"
   },
   "outputs": [
    {
     "name": "stdout",
     "output_type": "stream",
     "text": [
      "40/40 [==============================] - 16s 339ms/step\n",
      "              precision    recall  f1-score   support\n",
      "\n",
      "           0     0.9992    0.9510    0.9745    214326\n",
      "           1     0.7088    0.9607    0.8157     20341\n",
      "           2     0.9893    0.9257    0.9565    123344\n",
      "           3     0.6609    0.9309    0.7730     10759\n",
      "           4     0.6614    0.9747    0.7880     14030\n",
      "\n",
      "    accuracy                         0.9437    382800\n",
      "   macro avg     0.8039    0.9486    0.8616    382800\n",
      "weighted avg     0.9587    0.9437    0.9478    382800\n",
      "\n"
     ]
    }
   ],
   "source": [
    "from sklearn.metrics import classification_report\n",
    "\n",
    "# Predict the labels for the test set\n",
    "y_pred = model.predict(X_test)\n",
    "\n",
    "# Convert predictions from probabilities (one-hot) to class labels\n",
    "y_pred_labels = np.argmax(y_pred, axis=-1)\n",
    "\n",
    "# Convert true labels from one-hot encoding to class labels\n",
    "y_test_labels = np.argmax(y_test, axis=-1)\n",
    "\n",
    "# Flatten the arrays if necessary to ensure they're 1D\n",
    "y_pred_labels = y_pred_labels.flatten()\n",
    "y_test_labels = y_test_labels.flatten()\n",
    "\n",
    "# Generate a classification report\n",
    "report = classification_report(y_test_labels, y_pred_labels, digits=4)\n",
    "\n",
    "# Print the classification report\n",
    "print(report)\n",
    "\n"
   ]
  },
  {
   "cell_type": "code",
   "execution_count": 26,
   "id": "7d77e0b4",
   "metadata": {
    "colab": {
     "base_uri": "https://localhost:8080/",
     "height": 641
    },
    "id": "7d77e0b4",
    "outputId": "96cd12f9-0283-437e-cc27-c8c366541d4a"
   },
   "outputs": [
    {
     "data": {
      "image/png": "[encoded data removed]",
      "text/plain": [
       "<Figure size 720x504 with 2 Axes>"
      ]
     },
     "metadata": {
      "needs_background": "light"
     },
     "output_type": "display_data"
    }
   ],
   "source": [
    "from sklearn.metrics import confusion_matrix\n",
    "import matplotlib.pyplot as plt\n",
    "import seaborn as sns\n",
    "\n",
    "\n",
    "cm = confusion_matrix(y_test_labels, y_pred_labels)\n",
    "\n",
    "\n",
    "plt.figure(figsize=(10, 7))\n",
    "sns.heatmap(cm, annot=True, fmt=\"d\", cmap=\"OrRd\", xticklabels=[0, 1, 2, 3, 4], yticklabels=[0, 1, 2, 3, 4])\n",
    "plt.xlabel('Predicted Labels')\n",
    "plt.ylabel('True Labels')\n",
    "plt.title('Confusion Matrix')\n",
    "plt.show()"
   ]
  },
  {
   "cell_type": "code",
   "execution_count": 11,
   "id": "fef4278c",
   "metadata": {
    "colab": {
     "base_uri": "https://localhost:8080/"
    },
    "id": "fef4278c",
    "outputId": "6eebe52f-a998-4627-b945-4181c055cbe0"
   },
   "outputs": [],
   "source": [
    "model.save('seq_BI_lstm_model.h5')"
   ]
  },
  {
   "cell_type": "code",
   "execution_count": 12,
   "id": "ea44fab9",
   "metadata": {
    "colab": {
     "base_uri": "https://localhost:8080/"
    },
    "id": "ea44fab9",
    "outputId": "b0d75ffc-65ad-4d94-80ee-51f7c60af684"
   },
   "outputs": [
    {
     "name": "stdout",
     "output_type": "stream",
     "text": [
      "Point-by-point accuracy: 94.37%\n"
     ]
    }
   ],
   "source": [
    "import numpy as np\n",
    "\n",
    "\n",
    "correct_predictions = np.sum(y_pred_labels == y_test_labels)\n",
    "total_points = len(y_test_labels)\n",
    "\n",
    "point_accuracy = correct_predictions / total_points\n",
    "\n",
    "print(f\"Point-by-point accuracy: {point_accuracy * 100:.2f}%\")\n"
   ]
  },
  {
   "cell_type": "markdown",
   "id": "45552058",
   "metadata": {},
   "source": [
    "# Confidence Score of any text file"
   ]
  },
  {
   "cell_type": "code",
   "execution_count": 13,
   "id": "b6144167",
   "metadata": {
    "colab": {
     "base_uri": "https://localhost:8080/"
    },
    "id": "b6144167",
    "outputId": "a21a85fe-9ca6-4932-8bd5-f08917ddc747"
   },
   "outputs": [
    {
     "name": "stdout",
     "output_type": "stream",
     "text": [
      "1/1 [==============================] - 0s 49ms/step\n",
      "Predicted classes for file 15: [0 0 0 0 0 0 0 0 0 0 0 0 0 0 0 0 0 0 0 0 0 0 0 0 0 0 0 0 0 0 0 0 0 0 0 0 0\n",
      " 0 0 0 0 0 0 0 0 0 0 0 0 0 0 0 0 0 0 1 1 1 1 1 1 1 1 1 1 1 1 1 1 1 1 1 1 1\n",
      " 1 1 2 2 2 2 2 2 2 2 2 2 2 2 2 2 2 2 2 2 2 2 2 2 2 2 2 2 2 2 2 2 2 2 2 2 2\n",
      " 2 2 2 2 2 2 2 2 2 2 2 2 2 2 2 2 2 2 2 2 2 2 2 2 2 2 2 2 3 3 3 3 3 3 3 3 3\n",
      " 3 3 3 3 3 3 2 2 2 2 2 2 2 4 4 4 4 4 4 4 4 4 4 4 4 4 0 0 0 0 0 0 0 0 0 0 0\n",
      " 0 0 0 0 0 0 0 0 0 0 0 0 0 0 0 0 0 0 0 0 0 0 0 0 0 0 0 0 0 0 0 0 0 0 0 0 0\n",
      " 0 0 0 0 0 0 0 0 0 0 0 0 0 0 0 0 0 0 0 0 0 0 0 0 0 0 0 0 0 0 0 0 0 0 0 0 0\n",
      " 0 0 0 0 0 0 0 0 0 0 0 0 0 0 0 0 0 0 0 0 0 0 0 0 0 0 0 0 0 0 0 0 0 0 0 0 0\n",
      " 0 0 0 0]\n",
      "True classes for file 15: [0 0 0 0 0 0 0 0 0 0 0 0 0 0 0 0 0 0 0 0 0 0 0 0 0 0 0 0 0 0 0 0 0 0 0 0 0\n",
      " 0 0 0 0 0 0 0 0 0 0 0 0 0 0 0 0 0 0 0 0 0 0 1 1 1 1 1 1 1 1 1 1 1 1 1 1 1\n",
      " 1 2 2 2 2 2 2 2 2 2 2 2 2 2 2 2 2 2 2 2 2 2 2 2 2 2 2 2 2 2 2 2 2 2 2 2 2\n",
      " 2 2 2 2 2 2 2 2 2 2 2 2 2 2 2 2 2 2 2 2 2 2 2 2 2 2 2 2 2 2 2 2 2 3 3 3 3\n",
      " 3 3 3 3 3 3 3 2 2 2 2 2 2 4 4 4 4 4 4 4 4 4 4 4 0 0 0 0 0 0 0 0 0 0 0 0 0\n",
      " 0 0 0 0 0 0 0 0 0 0 0 0 0 0 0 0 0 0 0 0 0 0 0 0 0 0 0 0 0 0 0 0 0 0 0 0 0\n",
      " 0 0 0 0 0 0 0 0 0 0 0 0 0 0 0 0 0 0 0 0 0 0 0 0 0 0 0 0 0 0 0 0 0 0 0 0 0\n",
      " 0 0 0 0 0 0 0 0 0 0 0 0 0 0 0 0 0 0 0 0 0 0 0 0 0 0 0 0 0 0 0 0 0 0 0 0 0\n",
      " 0 0 0 0]\n",
      "Accuracy for file 15: 0.9567\n"
     ]
    }
   ],
   "source": [
    "import numpy as np\n",
    "\n",
    "# checking files inside\n",
    "file_index = 14  # the number of file from the loaded sequence\n",
    "\n",
    "# Getting the same file\n",
    "test_sequence = X_test[file_index]\n",
    "\n",
    "# Get the true labels for this sequence\n",
    "true_classes = np.argmax(y_test[file_index], axis=1)\n",
    "\n",
    "# Reshape the sequence (batch_size, sequence_length, features)\n",
    "test_sequence_reshaped = test_sequence.reshape(1, 300, 1)\n",
    "\n",
    "# Get the predicted probabilities for each sample in the sequence\n",
    "predicted_probs = model.predict(test_sequence_reshaped)\n",
    "\n",
    "# Convert predicted probabilities\n",
    "predicted_classes = np.argmax(predicted_probs, axis=2).flatten()  # Shape: (300,)\n",
    "\n",
    "# Print the predicted classes and true classes\n",
    "print(f\"Predicted classes for file {file_index + 1}: {predicted_classes}\")\n",
    "print(f\"True classes for file {file_index + 1}: {true_classes}\")\n",
    "\n",
    "# Check accuracy for this particular sequence\n",
    "accuracy = np.mean(predicted_classes == true_classes)\n",
    "print(f\"Accuracy for file {file_index + 1}: {accuracy:.4f}\")\n"
   ]
  },
  {
   "cell_type": "code",
   "execution_count": 14,
   "id": "0b1176f2",
   "metadata": {
    "colab": {
     "base_uri": "https://localhost:8080/",
     "height": 564
    },
    "id": "0b1176f2",
    "outputId": "2c12cf2f-995a-4e67-f0b6-3dfdecfb60bf"
   },
   "outputs": [
    {
     "data": {
      "image/png": "[encoded data removed]",
      "text/plain": [
       "<Figure size 720x432 with 1 Axes>"
      ]
     },
     "metadata": {
      "needs_background": "light"
     },
     "output_type": "display_data"
    }
   ],
   "source": [
    "import numpy as np\n",
    "import matplotlib.pyplot as plt\n",
    "\n",
    "\n",
    "# Create a plot to visualize the predicted vs true classes\n",
    "plt.figure(figsize=(10, 6))\n",
    "plt.plot(range(1, 301), true_classes, label=\"True Classes\", color='blue', linestyle='dashed', marker='o')\n",
    "plt.plot(range(1, 301), predicted_classes, label=\"Predicted Classes\", color='red', marker='x')\n",
    "\n",
    "# Add labels and title\n",
    "plt.xlabel('Sample Index')\n",
    "plt.ylabel('Class Label')\n",
    "plt.title(f'Predicted vs True Classes for Test File {file_index + 1}')\n",
    "plt.legend()\n",
    "\n",
    "# Show the plot\n",
    "plt.show()\n"
   ]
  },
  {
   "cell_type": "code",
   "execution_count": 15,
   "id": "017b051a",
   "metadata": {
    "colab": {
     "base_uri": "https://localhost:8080/"
    },
    "id": "017b051a",
    "outputId": "2036824b-e029-4a66-c6f8-38fbbe9a47c4"
   },
   "outputs": [
    {
     "name": "stdout",
     "output_type": "stream",
     "text": [
      "Sample 1: Predicted = 0, True = 0 (Correct)\n",
      "Sample 2: Predicted = 0, True = 0 (Correct)\n",
      "Sample 3: Predicted = 0, True = 0 (Correct)\n",
      "Sample 4: Predicted = 0, True = 0 (Correct)\n",
      "Sample 5: Predicted = 0, True = 0 (Correct)\n",
      "Sample 6: Predicted = 0, True = 0 (Correct)\n",
      "Sample 7: Predicted = 0, True = 0 (Correct)\n",
      "Sample 8: Predicted = 0, True = 0 (Correct)\n",
      "Sample 9: Predicted = 0, True = 0 (Correct)\n",
      "Sample 10: Predicted = 0, True = 0 (Correct)\n",
      "Sample 11: Predicted = 0, True = 0 (Correct)\n",
      "Sample 12: Predicted = 0, True = 0 (Correct)\n",
      "Sample 13: Predicted = 0, True = 0 (Correct)\n",
      "Sample 14: Predicted = 0, True = 0 (Correct)\n",
      "Sample 15: Predicted = 0, True = 0 (Correct)\n",
      "Sample 16: Predicted = 0, True = 0 (Correct)\n",
      "Sample 17: Predicted = 0, True = 0 (Correct)\n",
      "Sample 18: Predicted = 0, True = 0 (Correct)\n",
      "Sample 19: Predicted = 0, True = 0 (Correct)\n",
      "Sample 20: Predicted = 0, True = 0 (Correct)\n",
      "Sample 21: Predicted = 0, True = 0 (Correct)\n",
      "Sample 22: Predicted = 0, True = 0 (Correct)\n",
      "Sample 23: Predicted = 0, True = 0 (Correct)\n",
      "Sample 24: Predicted = 0, True = 0 (Correct)\n",
      "Sample 25: Predicted = 0, True = 0 (Correct)\n",
      "Sample 26: Predicted = 0, True = 0 (Correct)\n",
      "Sample 27: Predicted = 0, True = 0 (Correct)\n",
      "Sample 28: Predicted = 0, True = 0 (Correct)\n",
      "Sample 29: Predicted = 0, True = 0 (Correct)\n",
      "Sample 30: Predicted = 0, True = 0 (Correct)\n",
      "Sample 31: Predicted = 0, True = 0 (Correct)\n",
      "Sample 32: Predicted = 0, True = 0 (Correct)\n",
      "Sample 33: Predicted = 0, True = 0 (Correct)\n",
      "Sample 34: Predicted = 0, True = 0 (Correct)\n",
      "Sample 35: Predicted = 0, True = 0 (Correct)\n",
      "Sample 36: Predicted = 0, True = 0 (Correct)\n",
      "Sample 37: Predicted = 0, True = 0 (Correct)\n",
      "Sample 38: Predicted = 0, True = 0 (Correct)\n",
      "Sample 39: Predicted = 0, True = 0 (Correct)\n",
      "Sample 40: Predicted = 0, True = 0 (Correct)\n",
      "Sample 41: Predicted = 0, True = 0 (Correct)\n",
      "Sample 42: Predicted = 0, True = 0 (Correct)\n",
      "Sample 43: Predicted = 0, True = 0 (Correct)\n",
      "Sample 44: Predicted = 0, True = 0 (Correct)\n",
      "Sample 45: Predicted = 0, True = 0 (Correct)\n",
      "Sample 46: Predicted = 0, True = 0 (Correct)\n",
      "Sample 47: Predicted = 0, True = 0 (Correct)\n",
      "Sample 48: Predicted = 0, True = 0 (Correct)\n",
      "Sample 49: Predicted = 0, True = 0 (Correct)\n",
      "Sample 50: Predicted = 0, True = 0 (Correct)\n",
      "Sample 51: Predicted = 0, True = 0 (Correct)\n",
      "Sample 52: Predicted = 0, True = 0 (Correct)\n",
      "Sample 53: Predicted = 0, True = 0 (Correct)\n",
      "Sample 54: Predicted = 0, True = 0 (Correct)\n",
      "Sample 55: Predicted = 0, True = 0 (Correct)\n",
      "Sample 56: Predicted = 1, True = 0 (Incorrect)\n",
      "Sample 57: Predicted = 1, True = 0 (Incorrect)\n",
      "Sample 58: Predicted = 1, True = 0 (Incorrect)\n",
      "Sample 59: Predicted = 1, True = 0 (Incorrect)\n",
      "Sample 60: Predicted = 1, True = 1 (Correct)\n",
      "Sample 61: Predicted = 1, True = 1 (Correct)\n",
      "Sample 62: Predicted = 1, True = 1 (Correct)\n",
      "Sample 63: Predicted = 1, True = 1 (Correct)\n",
      "Sample 64: Predicted = 1, True = 1 (Correct)\n",
      "Sample 65: Predicted = 1, True = 1 (Correct)\n",
      "Sample 66: Predicted = 1, True = 1 (Correct)\n",
      "Sample 67: Predicted = 1, True = 1 (Correct)\n",
      "Sample 68: Predicted = 1, True = 1 (Correct)\n",
      "Sample 69: Predicted = 1, True = 1 (Correct)\n",
      "Sample 70: Predicted = 1, True = 1 (Correct)\n",
      "Sample 71: Predicted = 1, True = 1 (Correct)\n",
      "Sample 72: Predicted = 1, True = 1 (Correct)\n",
      "Sample 73: Predicted = 1, True = 1 (Correct)\n",
      "Sample 74: Predicted = 1, True = 1 (Correct)\n",
      "Sample 75: Predicted = 1, True = 1 (Correct)\n",
      "Sample 76: Predicted = 1, True = 2 (Incorrect)\n",
      "Sample 77: Predicted = 2, True = 2 (Correct)\n",
      "Sample 78: Predicted = 2, True = 2 (Correct)\n",
      "Sample 79: Predicted = 2, True = 2 (Correct)\n",
      "Sample 80: Predicted = 2, True = 2 (Correct)\n",
      "Sample 81: Predicted = 2, True = 2 (Correct)\n",
      "Sample 82: Predicted = 2, True = 2 (Correct)\n",
      "Sample 83: Predicted = 2, True = 2 (Correct)\n",
      "Sample 84: Predicted = 2, True = 2 (Correct)\n",
      "Sample 85: Predicted = 2, True = 2 (Correct)\n",
      "Sample 86: Predicted = 2, True = 2 (Correct)\n",
      "Sample 87: Predicted = 2, True = 2 (Correct)\n",
      "Sample 88: Predicted = 2, True = 2 (Correct)\n",
      "Sample 89: Predicted = 2, True = 2 (Correct)\n",
      "Sample 90: Predicted = 2, True = 2 (Correct)\n",
      "Sample 91: Predicted = 2, True = 2 (Correct)\n",
      "Sample 92: Predicted = 2, True = 2 (Correct)\n",
      "Sample 93: Predicted = 2, True = 2 (Correct)\n",
      "Sample 94: Predicted = 2, True = 2 (Correct)\n",
      "Sample 95: Predicted = 2, True = 2 (Correct)\n",
      "Sample 96: Predicted = 2, True = 2 (Correct)\n",
      "Sample 97: Predicted = 2, True = 2 (Correct)\n",
      "Sample 98: Predicted = 2, True = 2 (Correct)\n",
      "Sample 99: Predicted = 2, True = 2 (Correct)\n",
      "Sample 100: Predicted = 2, True = 2 (Correct)\n",
      "Sample 101: Predicted = 2, True = 2 (Correct)\n",
      "Sample 102: Predicted = 2, True = 2 (Correct)\n",
      "Sample 103: Predicted = 2, True = 2 (Correct)\n",
      "Sample 104: Predicted = 2, True = 2 (Correct)\n",
      "Sample 105: Predicted = 2, True = 2 (Correct)\n",
      "Sample 106: Predicted = 2, True = 2 (Correct)\n",
      "Sample 107: Predicted = 2, True = 2 (Correct)\n",
      "Sample 108: Predicted = 2, True = 2 (Correct)\n",
      "Sample 109: Predicted = 2, True = 2 (Correct)\n",
      "Sample 110: Predicted = 2, True = 2 (Correct)\n",
      "Sample 111: Predicted = 2, True = 2 (Correct)\n",
      "Sample 112: Predicted = 2, True = 2 (Correct)\n",
      "Sample 113: Predicted = 2, True = 2 (Correct)\n",
      "Sample 114: Predicted = 2, True = 2 (Correct)\n",
      "Sample 115: Predicted = 2, True = 2 (Correct)\n",
      "Sample 116: Predicted = 2, True = 2 (Correct)\n",
      "Sample 117: Predicted = 2, True = 2 (Correct)\n",
      "Sample 118: Predicted = 2, True = 2 (Correct)\n",
      "Sample 119: Predicted = 2, True = 2 (Correct)\n",
      "Sample 120: Predicted = 2, True = 2 (Correct)\n",
      "Sample 121: Predicted = 2, True = 2 (Correct)\n",
      "Sample 122: Predicted = 2, True = 2 (Correct)\n",
      "Sample 123: Predicted = 2, True = 2 (Correct)\n",
      "Sample 124: Predicted = 2, True = 2 (Correct)\n",
      "Sample 125: Predicted = 2, True = 2 (Correct)\n",
      "Sample 126: Predicted = 2, True = 2 (Correct)\n",
      "Sample 127: Predicted = 2, True = 2 (Correct)\n",
      "Sample 128: Predicted = 2, True = 2 (Correct)\n",
      "Sample 129: Predicted = 2, True = 2 (Correct)\n",
      "Sample 130: Predicted = 2, True = 2 (Correct)\n",
      "Sample 131: Predicted = 2, True = 2 (Correct)\n",
      "Sample 132: Predicted = 2, True = 2 (Correct)\n",
      "Sample 133: Predicted = 2, True = 2 (Correct)\n",
      "Sample 134: Predicted = 2, True = 2 (Correct)\n",
      "Sample 135: Predicted = 2, True = 2 (Correct)\n",
      "Sample 136: Predicted = 2, True = 2 (Correct)\n",
      "Sample 137: Predicted = 2, True = 2 (Correct)\n",
      "Sample 138: Predicted = 2, True = 2 (Correct)\n",
      "Sample 139: Predicted = 2, True = 2 (Correct)\n",
      "Sample 140: Predicted = 3, True = 2 (Incorrect)\n",
      "Sample 141: Predicted = 3, True = 2 (Incorrect)\n",
      "Sample 142: Predicted = 3, True = 2 (Incorrect)\n",
      "Sample 143: Predicted = 3, True = 2 (Incorrect)\n",
      "Sample 144: Predicted = 3, True = 2 (Incorrect)\n",
      "Sample 145: Predicted = 3, True = 3 (Correct)\n",
      "Sample 146: Predicted = 3, True = 3 (Correct)\n",
      "Sample 147: Predicted = 3, True = 3 (Correct)\n",
      "Sample 148: Predicted = 3, True = 3 (Correct)\n",
      "Sample 149: Predicted = 3, True = 3 (Correct)\n",
      "Sample 150: Predicted = 3, True = 3 (Correct)\n",
      "Sample 151: Predicted = 3, True = 3 (Correct)\n",
      "Sample 152: Predicted = 3, True = 3 (Correct)\n",
      "Sample 153: Predicted = 3, True = 3 (Correct)\n",
      "Sample 154: Predicted = 3, True = 3 (Correct)\n",
      "Sample 155: Predicted = 2, True = 3 (Incorrect)\n",
      "Sample 156: Predicted = 2, True = 2 (Correct)\n",
      "Sample 157: Predicted = 2, True = 2 (Correct)\n",
      "Sample 158: Predicted = 2, True = 2 (Correct)\n",
      "Sample 159: Predicted = 2, True = 2 (Correct)\n",
      "Sample 160: Predicted = 2, True = 2 (Correct)\n",
      "Sample 161: Predicted = 2, True = 2 (Correct)\n",
      "Sample 162: Predicted = 4, True = 4 (Correct)\n",
      "Sample 163: Predicted = 4, True = 4 (Correct)\n",
      "Sample 164: Predicted = 4, True = 4 (Correct)\n",
      "Sample 165: Predicted = 4, True = 4 (Correct)\n",
      "Sample 166: Predicted = 4, True = 4 (Correct)\n",
      "Sample 167: Predicted = 4, True = 4 (Correct)\n",
      "Sample 168: Predicted = 4, True = 4 (Correct)\n",
      "Sample 169: Predicted = 4, True = 4 (Correct)\n",
      "Sample 170: Predicted = 4, True = 4 (Correct)\n",
      "Sample 171: Predicted = 4, True = 4 (Correct)\n",
      "Sample 172: Predicted = 4, True = 4 (Correct)\n",
      "Sample 173: Predicted = 4, True = 0 (Incorrect)\n",
      "Sample 174: Predicted = 4, True = 0 (Incorrect)\n",
      "Sample 175: Predicted = 0, True = 0 (Correct)\n",
      "Sample 176: Predicted = 0, True = 0 (Correct)\n",
      "Sample 177: Predicted = 0, True = 0 (Correct)\n",
      "Sample 178: Predicted = 0, True = 0 (Correct)\n",
      "Sample 179: Predicted = 0, True = 0 (Correct)\n",
      "Sample 180: Predicted = 0, True = 0 (Correct)\n",
      "Sample 181: Predicted = 0, True = 0 (Correct)\n",
      "Sample 182: Predicted = 0, True = 0 (Correct)\n",
      "Sample 183: Predicted = 0, True = 0 (Correct)\n",
      "Sample 184: Predicted = 0, True = 0 (Correct)\n",
      "Sample 185: Predicted = 0, True = 0 (Correct)\n",
      "Sample 186: Predicted = 0, True = 0 (Correct)\n",
      "Sample 187: Predicted = 0, True = 0 (Correct)\n",
      "Sample 188: Predicted = 0, True = 0 (Correct)\n",
      "Sample 189: Predicted = 0, True = 0 (Correct)\n",
      "Sample 190: Predicted = 0, True = 0 (Correct)\n",
      "Sample 191: Predicted = 0, True = 0 (Correct)\n",
      "Sample 192: Predicted = 0, True = 0 (Correct)\n",
      "Sample 193: Predicted = 0, True = 0 (Correct)\n",
      "Sample 194: Predicted = 0, True = 0 (Correct)\n",
      "Sample 195: Predicted = 0, True = 0 (Correct)\n",
      "Sample 196: Predicted = 0, True = 0 (Correct)\n",
      "Sample 197: Predicted = 0, True = 0 (Correct)\n",
      "Sample 198: Predicted = 0, True = 0 (Correct)\n",
      "Sample 199: Predicted = 0, True = 0 (Correct)\n",
      "Sample 200: Predicted = 0, True = 0 (Correct)\n",
      "Sample 201: Predicted = 0, True = 0 (Correct)\n",
      "Sample 202: Predicted = 0, True = 0 (Correct)\n",
      "Sample 203: Predicted = 0, True = 0 (Correct)\n",
      "Sample 204: Predicted = 0, True = 0 (Correct)\n",
      "Sample 205: Predicted = 0, True = 0 (Correct)\n",
      "Sample 206: Predicted = 0, True = 0 (Correct)\n",
      "Sample 207: Predicted = 0, True = 0 (Correct)\n",
      "Sample 208: Predicted = 0, True = 0 (Correct)\n",
      "Sample 209: Predicted = 0, True = 0 (Correct)\n",
      "Sample 210: Predicted = 0, True = 0 (Correct)\n",
      "Sample 211: Predicted = 0, True = 0 (Correct)\n",
      "Sample 212: Predicted = 0, True = 0 (Correct)\n",
      "Sample 213: Predicted = 0, True = 0 (Correct)\n",
      "Sample 214: Predicted = 0, True = 0 (Correct)\n",
      "Sample 215: Predicted = 0, True = 0 (Correct)\n",
      "Sample 216: Predicted = 0, True = 0 (Correct)\n",
      "Sample 217: Predicted = 0, True = 0 (Correct)\n",
      "Sample 218: Predicted = 0, True = 0 (Correct)\n",
      "Sample 219: Predicted = 0, True = 0 (Correct)\n",
      "Sample 220: Predicted = 0, True = 0 (Correct)\n",
      "Sample 221: Predicted = 0, True = 0 (Correct)\n",
      "Sample 222: Predicted = 0, True = 0 (Correct)\n",
      "Sample 223: Predicted = 0, True = 0 (Correct)\n",
      "Sample 224: Predicted = 0, True = 0 (Correct)\n",
      "Sample 225: Predicted = 0, True = 0 (Correct)\n",
      "Sample 226: Predicted = 0, True = 0 (Correct)\n",
      "Sample 227: Predicted = 0, True = 0 (Correct)\n",
      "Sample 228: Predicted = 0, True = 0 (Correct)\n",
      "Sample 229: Predicted = 0, True = 0 (Correct)\n",
      "Sample 230: Predicted = 0, True = 0 (Correct)\n",
      "Sample 231: Predicted = 0, True = 0 (Correct)\n",
      "Sample 232: Predicted = 0, True = 0 (Correct)\n",
      "Sample 233: Predicted = 0, True = 0 (Correct)\n",
      "Sample 234: Predicted = 0, True = 0 (Correct)\n",
      "Sample 235: Predicted = 0, True = 0 (Correct)\n",
      "Sample 236: Predicted = 0, True = 0 (Correct)\n",
      "Sample 237: Predicted = 0, True = 0 (Correct)\n",
      "Sample 238: Predicted = 0, True = 0 (Correct)\n",
      "Sample 239: Predicted = 0, True = 0 (Correct)\n",
      "Sample 240: Predicted = 0, True = 0 (Correct)\n",
      "Sample 241: Predicted = 0, True = 0 (Correct)\n",
      "Sample 242: Predicted = 0, True = 0 (Correct)\n",
      "Sample 243: Predicted = 0, True = 0 (Correct)\n",
      "Sample 244: Predicted = 0, True = 0 (Correct)\n",
      "Sample 245: Predicted = 0, True = 0 (Correct)\n",
      "Sample 246: Predicted = 0, True = 0 (Correct)\n",
      "Sample 247: Predicted = 0, True = 0 (Correct)\n",
      "Sample 248: Predicted = 0, True = 0 (Correct)\n",
      "Sample 249: Predicted = 0, True = 0 (Correct)\n",
      "Sample 250: Predicted = 0, True = 0 (Correct)\n",
      "Sample 251: Predicted = 0, True = 0 (Correct)\n",
      "Sample 252: Predicted = 0, True = 0 (Correct)\n",
      "Sample 253: Predicted = 0, True = 0 (Correct)\n",
      "Sample 254: Predicted = 0, True = 0 (Correct)\n",
      "Sample 255: Predicted = 0, True = 0 (Correct)\n",
      "Sample 256: Predicted = 0, True = 0 (Correct)\n",
      "Sample 257: Predicted = 0, True = 0 (Correct)\n",
      "Sample 258: Predicted = 0, True = 0 (Correct)\n",
      "Sample 259: Predicted = 0, True = 0 (Correct)\n",
      "Sample 260: Predicted = 0, True = 0 (Correct)\n",
      "Sample 261: Predicted = 0, True = 0 (Correct)\n",
      "Sample 262: Predicted = 0, True = 0 (Correct)\n",
      "Sample 263: Predicted = 0, True = 0 (Correct)\n",
      "Sample 264: Predicted = 0, True = 0 (Correct)\n",
      "Sample 265: Predicted = 0, True = 0 (Correct)\n",
      "Sample 266: Predicted = 0, True = 0 (Correct)\n",
      "Sample 267: Predicted = 0, True = 0 (Correct)\n",
      "Sample 268: Predicted = 0, True = 0 (Correct)\n",
      "Sample 269: Predicted = 0, True = 0 (Correct)\n",
      "Sample 270: Predicted = 0, True = 0 (Correct)\n",
      "Sample 271: Predicted = 0, True = 0 (Correct)\n",
      "Sample 272: Predicted = 0, True = 0 (Correct)\n",
      "Sample 273: Predicted = 0, True = 0 (Correct)\n",
      "Sample 274: Predicted = 0, True = 0 (Correct)\n",
      "Sample 275: Predicted = 0, True = 0 (Correct)\n",
      "Sample 276: Predicted = 0, True = 0 (Correct)\n",
      "Sample 277: Predicted = 0, True = 0 (Correct)\n",
      "Sample 278: Predicted = 0, True = 0 (Correct)\n",
      "Sample 279: Predicted = 0, True = 0 (Correct)\n",
      "Sample 280: Predicted = 0, True = 0 (Correct)\n",
      "Sample 281: Predicted = 0, True = 0 (Correct)\n",
      "Sample 282: Predicted = 0, True = 0 (Correct)\n",
      "Sample 283: Predicted = 0, True = 0 (Correct)\n",
      "Sample 284: Predicted = 0, True = 0 (Correct)\n",
      "Sample 285: Predicted = 0, True = 0 (Correct)\n",
      "Sample 286: Predicted = 0, True = 0 (Correct)\n",
      "Sample 287: Predicted = 0, True = 0 (Correct)\n",
      "Sample 288: Predicted = 0, True = 0 (Correct)\n",
      "Sample 289: Predicted = 0, True = 0 (Correct)\n",
      "Sample 290: Predicted = 0, True = 0 (Correct)\n",
      "Sample 291: Predicted = 0, True = 0 (Correct)\n",
      "Sample 292: Predicted = 0, True = 0 (Correct)\n",
      "Sample 293: Predicted = 0, True = 0 (Correct)\n",
      "Sample 294: Predicted = 0, True = 0 (Correct)\n",
      "Sample 295: Predicted = 0, True = 0 (Correct)\n",
      "Sample 296: Predicted = 0, True = 0 (Correct)\n",
      "Sample 297: Predicted = 0, True = 0 (Correct)\n",
      "Sample 298: Predicted = 0, True = 0 (Correct)\n",
      "Sample 299: Predicted = 0, True = 0 (Correct)\n",
      "Sample 300: Predicted = 0, True = 0 (Correct)\n"
     ]
    }
   ],
   "source": [
    "# Check accuracy for this particular sequence at each sample\n",
    "correct_predictions = predicted_classes == true_classes\n",
    "\n",
    "# Loop through each sample to print individual accuracy\n",
    "for i in range(len(correct_predictions)):\n",
    "    result = \"Correct\" if correct_predictions[i] else \"Incorrect\"\n",
    "    print(f\"Sample {i + 1}: Predicted = {predicted_classes[i]}, True = {true_classes[i]} ({result})\")\n",
    "\n"
   ]
  },
  {
   "cell_type": "code",
   "execution_count": 16,
   "id": "9f73bce0",
   "metadata": {
    "colab": {
     "base_uri": "https://localhost:8080/"
    },
    "id": "9f73bce0",
    "outputId": "a35a861d-476c-46df-ead2-3a4dbd3155d5"
   },
   "outputs": [
    {
     "name": "stdout",
     "output_type": "stream",
     "text": [
      "Overall Accuracy for file 15: 0.9567\n"
     ]
    }
   ],
   "source": [
    "# Calculate overall accuracy for the sequence\n",
    "accuracy = np.mean(correct_predictions)\n",
    "print(f\"Overall Accuracy for file {file_index + 1}: {accuracy:.4f}\")"
   ]
  },
  {
   "cell_type": "code",
   "execution_count": 24,
   "id": "8e6903a7",
   "metadata": {
    "id": "8e6903a7"
   },
   "outputs": [
    {
     "data": {
      "image/png": "[encoded data removed]",
      "text/plain": [
       "<IPython.core.display.Image object>"
      ]
     },
     "execution_count": 24,
     "metadata": {},
     "output_type": "execute_result"
    }
   ],
   "source": [
    "from tensorflow.keras.utils import plot_model\n",
    "\n",
    "# Create the model as usual\n",
    "model = Model(inputs=input_layer, outputs=output_layer)\n",
    "\n",
    "# Plot the model architecture and save it to a file\n",
    "plot_model(model, to_file='model_architecture.png', show_shapes=True, show_layer_names=True)\n"
   ]
  }
 ],
 "metadata": {
  "colab": {
   "provenance": []
  },
  "kernelspec": {
   "display_name": "Python 3 (ipykernel)",
   "language": "python",
   "name": "python3"
  },
  "language_info": {
   "codemirror_mode": {
    "name": "ipython",
    "version": 3
   },
   "file_extension": ".py",
   "mimetype": "text/x-python",
   "name": "python",
   "nbconvert_exporter": "python",
   "pygments_lexer": "ipython3",
   "version": "3.9.12"
  }
 },
 "nbformat": 4,
 "nbformat_minor": 5
}
